{
 "cells": [
  {
   "cell_type": "markdown",
   "metadata": {},
   "source": [
    "# Continuous Control\n",
    "\n",
    "---\n",
    "\n",
    "In this notebook, we use the Unity ML-Agents environment for the second project of the [Deep Reinforcement Learning Nanodegree](https://www.udacity.com/course/deep-reinforcement-learning-nanodegree--nd893) program.\n",
    "\n",
    "### 1. Start the Environment\n",
    "\n",
    "We begin by importing the necessary packages.  If the code cell below returns an error, please revisit the project instructions to double-check that you have installed [Unity ML-Agents](https://github.com/Unity-Technologies/ml-agents/blob/master/docs/Installation.md) and [NumPy](http://www.numpy.org/)."
   ]
  },
  {
   "cell_type": "code",
   "execution_count": 1,
   "metadata": {},
   "outputs": [],
   "source": [
    "from collections import deque\n",
    "from datetime import datetime\n",
    "import numpy as np\n",
    "from pathlib import Path\n",
    "from unityagents import UnityEnvironment\n",
    "from uuid import uuid4\n",
    "\n",
    "import matplotlib.pyplot as plt\n",
    "%matplotlib inline\n",
    "\n",
    "from ddpg_agent import DDPGAgent"
   ]
  },
  {
   "cell_type": "markdown",
   "metadata": {},
   "source": [
    "Next, we will start the environment!  **_Before running the code cell below_**, change the `file_name` parameter to match the location of the Unity environment that you downloaded.\n",
    "\n",
    "- **Mac**: `\"path/to/Reacher.app\"`\n",
    "- **Windows** (x86): `\"path/to/Reacher_Windows_x86/Reacher.exe\"`\n",
    "- **Windows** (x86_64): `\"path/to/Reacher_Windows_x86_64/Reacher.exe\"`\n",
    "- **Linux** (x86): `\"path/to/Reacher_Linux/Reacher.x86\"`\n",
    "- **Linux** (x86_64): `\"path/to/Reacher_Linux/Reacher.x86_64\"`\n",
    "- **Linux** (x86, headless): `\"path/to/Reacher_Linux_NoVis/Reacher.x86\"`\n",
    "- **Linux** (x86_64, headless): `\"path/to/Reacher_Linux_NoVis/Reacher.x86_64\"`\n",
    "\n",
    "For instance, if you are using a Mac, then you downloaded `Reacher.app`.  If this file is in the same folder as the notebook, then the line below should appear as follows:\n",
    "```\n",
    "env = UnityEnvironment(file_name=\"Reacher.app\")\n",
    "```"
   ]
  },
  {
   "cell_type": "code",
   "execution_count": 2,
   "metadata": {},
   "outputs": [
    {
     "name": "stderr",
     "output_type": "stream",
     "text": [
      "INFO:unityagents:\n",
      "'Academy' started successfully!\n",
      "Unity Academy name: Academy\n",
      "        Number of Brains: 1\n",
      "        Number of External Brains : 1\n",
      "        Lesson number : 0\n",
      "        Reset Parameters :\n",
      "\t\tgoal_speed -> 1.0\n",
      "\t\tgoal_size -> 5.0\n",
      "Unity brain name: ReacherBrain\n",
      "        Number of Visual Observations (per agent): 0\n",
      "        Vector Observation space type: continuous\n",
      "        Vector Observation space size (per agent): 33\n",
      "        Number of stacked Vector Observation: 1\n",
      "        Vector Action space type: continuous\n",
      "        Vector Action space size (per agent): 4\n",
      "        Vector Action descriptions: , , , \n"
     ]
    }
   ],
   "source": [
    "env = UnityEnvironment(file_name='Reacher.app')"
   ]
  },
  {
   "cell_type": "markdown",
   "metadata": {},
   "source": [
    "Environments contain **_brains_** which are responsible for deciding the actions of their associated agents. Here we check for the first brain available, and set it as the default brain we will be controlling from Python."
   ]
  },
  {
   "cell_type": "code",
   "execution_count": 3,
   "metadata": {},
   "outputs": [],
   "source": [
    "# get the default brain\n",
    "brain_name = env.brain_names[0]\n",
    "brain = env.brains[brain_name]"
   ]
  },
  {
   "cell_type": "markdown",
   "metadata": {},
   "source": [
    "### 2. Examine the State and Action Spaces\n",
    "\n",
    "In this environment, a double-jointed arm can move to target locations. A reward of `+0.1` is provided for each step that the agent's hand is in the goal location. Thus, the goal of your agent is to maintain its position at the target location for as many time steps as possible.\n",
    "\n",
    "The observation space consists of `33` variables corresponding to position, rotation, velocity, and angular velocities of the arm.  Each action is a vector with four numbers, corresponding to torque applicable to two joints.  Every entry in the action vector must be a number between `-1` and `1`.\n",
    "\n",
    "Run the code cell below to print some information about the environment."
   ]
  },
  {
   "cell_type": "code",
   "execution_count": 4,
   "metadata": {},
   "outputs": [
    {
     "name": "stdout",
     "output_type": "stream",
     "text": [
      "Number of agents: 20\n",
      "Size of each action: 4\n",
      "There are 20 agents. Each observes a state with length: 33\n"
     ]
    }
   ],
   "source": [
    "# reset the environment\n",
    "env_info = env.reset(train_mode=True)[brain_name]\n",
    "\n",
    "# number of agents\n",
    "num_agents = len(env_info.agents)\n",
    "print('Number of agents:', num_agents)\n",
    "\n",
    "# size of each action\n",
    "action_size = brain.vector_action_space_size\n",
    "print('Size of each action:', action_size)\n",
    "\n",
    "# examine the state space \n",
    "states = env_info.vector_observations\n",
    "state_size = states.shape[1]\n",
    "print('There are {} agents. Each observes a state with length: {}'.format(states.shape[0], state_size))"
   ]
  },
  {
   "cell_type": "markdown",
   "metadata": {},
   "source": [
    "### 3. Training Functions"
   ]
  },
  {
   "cell_type": "code",
   "execution_count": 5,
   "metadata": {},
   "outputs": [],
   "source": [
    "def save_data(agent, name, scores):\n",
    "    now = datetime.now().strftime('%Y-%m-%d_%H%M')\n",
    "    train_name = 'train_{}_{}'.format(name, now)\n",
    "    train_dir = Path(train_name)\n",
    "    train_dir.mkdir(exist_ok=True)\n",
    "\n",
    "    actor_local_path = train_dir / 'checkpoint_actor_local_{}.pth'.format(train_name)\n",
    "    actor_target_path = train_dir / 'checkpoint_actor_target_{}.pth'.format(train_name)\n",
    "    critic_local_path = train_dir / 'checkpoint_critic_local_{}.pth'.format(train_name)\n",
    "    critic_target_path = train_dir / 'checkpoint_critic_target_{}.pth'.format(train_name)\n",
    "    agent.save(actor_local_path, actor_target_path,\n",
    "               critic_local_path, critic_target_path)\n",
    "\n",
    "    logfile = train_dir / \"score_{}.csv\".format(train_name)\n",
    "    rows = [\"{},{}\".format(i+1, v) for i, v in enumerate(scores)]\n",
    "    score_csv = [\"episode,score\"] + rows\n",
    "    with logfile.open(mode='w') as f:\n",
    "        f.write('\\n'.join(score_csv))\n",
    "\n",
    "def ddpg(env, agent, n_episodes=1000):\n",
    "    train_id = str(uuid4())[:8]\n",
    "\n",
    "    scores = []\n",
    "    scores_window = deque(maxlen=100)\n",
    "\n",
    "    for i_episode in range(1, n_episodes + 1):\n",
    "        env_info = env.reset(train_mode=True)[brain_name]\n",
    "        num_agents = len(env_info.agents)\n",
    "        states = env_info.vector_observations\n",
    "        agent.reset()\n",
    "\n",
    "        episode_scores = np.zeros(num_agents)\n",
    "\n",
    "        # run the episode\n",
    "        done = False\n",
    "        while not done:\n",
    "            actions = np.array([agent.act(states[i]) for i in range(num_agents)])\n",
    "\n",
    "            # send the actions to the environment\n",
    "            env_info = env.step(actions)[brain_name]\n",
    "\n",
    "            next_states = env_info.vector_observations\n",
    "            rewards = env_info.rewards\n",
    "            dones = env_info.local_done\n",
    "\n",
    "            experiences = zip(states, actions, rewards, next_states, dones)\n",
    "            for state, action, reward, next_state, done in experiences:\n",
    "                agent.step(state, action, reward, next_state, done)\n",
    "\n",
    "            episode_scores += rewards\n",
    "            states = next_states\n",
    "            done = np.any(dones)\n",
    "\n",
    "        m_scores = np.mean(episode_scores)\n",
    "        scores_window.append(m_scores)\n",
    "        scores.append(m_scores)\n",
    "\n",
    "        msg = '\\rEpisode {}\\tAverage Score (over agents): {:.2f}\\tAverage Score (over last 100 episodes): {:.2f}'\n",
    "        print(msg.format(i_episode, m_scores, np.mean(scores_window)), end=\"\")\n",
    "\n",
    "        if i_episode % 10 == 0:\n",
    "            print(msg.format(i_episode, m_scores, np.mean(scores_window)))\n",
    "\n",
    "        if np.mean(scores_window) > 10.0:\n",
    "            name = '{}_ep_{}'.format(train_id, i_episode)\n",
    "            save_data(agent, name, scores)\n",
    "\n",
    "        if np.mean(scores_window) >= 30.0:\n",
    "            print('\\nEnvironment solved in {:d} episodes!\\tAverage Score: {:.2f}'.format(i_episode-100, np.mean(scores_window)))\n",
    "            name = '{}_solved'.format(train_id)\n",
    "            save_data(agent, name, scores)\n",
    "            break\n",
    "\n",
    "    return scores"
   ]
  },
  {
   "cell_type": "markdown",
   "metadata": {},
   "source": [
    "### 4. Hyperparameters"
   ]
  },
  {
   "cell_type": "code",
   "execution_count": 6,
   "metadata": {},
   "outputs": [],
   "source": [
    "BUFFER_SIZE = int(1e6)  # replay buffer size\n",
    "BATCH_SIZE = 128        # minibatch size\n",
    "GAMMA = 0.99            # discount factor\n",
    "TAU = 1e-3              # for soft update of target parameters\n",
    "LR_ACTOR = 1e-3         # learning rate of the actor\n",
    "LR_CRITIC = 1e-4        # learning rate of the critic\n",
    "WEIGHT_DECAY = 0        # L2 weight decay\n",
    "\n",
    "UPDATE_EVERY = 20\n",
    "UPDATE_TIMES = 10"
   ]
  },
  {
   "cell_type": "markdown",
   "metadata": {},
   "source": [
    "### 5. Instantiate the Agent\n"
   ]
  },
  {
   "cell_type": "code",
   "execution_count": 7,
   "metadata": {},
   "outputs": [],
   "source": [
    "agent = DDPGAgent(\n",
    "    state_size, \n",
    "    action_size, \n",
    "    random_seed=0,\n",
    "    buffer_size=BUFFER_SIZE,\n",
    "    batch_size=BATCH_SIZE,\n",
    "    gamma=GAMMA,\n",
    "    tau=TAU,\n",
    "    lr_actor=LR_ACTOR,\n",
    "    lr_critic=LR_CRITIC,\n",
    "    weight_decay=WEIGHT_DECAY,\n",
    "    update_every=UPDATE_EVERY,\n",
    "    update_times=UPDATE_TIMES\n",
    ")"
   ]
  },
  {
   "cell_type": "markdown",
   "metadata": {},
   "source": [
    "### 6. Train the Agent with DDPG\n"
   ]
  },
  {
   "cell_type": "code",
   "execution_count": 8,
   "metadata": {},
   "outputs": [
    {
     "name": "stdout",
     "output_type": "stream",
     "text": [
      "Episode 10\tAverage Score (over agents): 7.18\tAverage Score (over last 100 episodes): 3.73\n",
      "Episode 20\tAverage Score (over agents): 8.60\tAverage Score (over last 100 episodes): 6.733\n",
      "Episode 30\tAverage Score (over agents): 11.44\tAverage Score (over last 100 episodes): 8.14\n",
      "Episode 40\tAverage Score (over agents): 12.05\tAverage Score (over last 100 episodes): 9.33\n",
      "Episode 50\tAverage Score (over agents): 14.78\tAverage Score (over last 100 episodes): 10.18\n",
      "Episode 60\tAverage Score (over agents): 15.36\tAverage Score (over last 100 episodes): 11.00\n",
      "Episode 70\tAverage Score (over agents): 15.07\tAverage Score (over last 100 episodes): 11.72\n",
      "Episode 80\tAverage Score (over agents): 17.78\tAverage Score (over last 100 episodes): 12.40\n",
      "Episode 90\tAverage Score (over agents): 16.88\tAverage Score (over last 100 episodes): 12.93\n",
      "Episode 100\tAverage Score (over agents): 18.25\tAverage Score (over last 100 episodes): 13.49\n",
      "Episode 110\tAverage Score (over agents): 20.38\tAverage Score (over last 100 episodes): 15.06\n",
      "Episode 120\tAverage Score (over agents): 18.78\tAverage Score (over last 100 episodes): 16.04\n",
      "Episode 130\tAverage Score (over agents): 22.15\tAverage Score (over last 100 episodes): 16.92\n",
      "Episode 140\tAverage Score (over agents): 24.18\tAverage Score (over last 100 episodes): 17.88\n",
      "Episode 150\tAverage Score (over agents): 22.62\tAverage Score (over last 100 episodes): 18.80\n",
      "Episode 160\tAverage Score (over agents): 25.30\tAverage Score (over last 100 episodes): 19.90\n",
      "Episode 170\tAverage Score (over agents): 28.40\tAverage Score (over last 100 episodes): 21.05\n",
      "Episode 180\tAverage Score (over agents): 29.13\tAverage Score (over last 100 episodes): 22.40\n",
      "Episode 190\tAverage Score (over agents): 32.58\tAverage Score (over last 100 episodes): 23.83\n",
      "Episode 200\tAverage Score (over agents): 35.23\tAverage Score (over last 100 episodes): 25.26\n",
      "Episode 210\tAverage Score (over agents): 31.81\tAverage Score (over last 100 episodes): 26.58\n",
      "Episode 220\tAverage Score (over agents): 33.14\tAverage Score (over last 100 episodes): 27.80\n",
      "Episode 230\tAverage Score (over agents): 30.18\tAverage Score (over last 100 episodes): 29.08\n",
      "Episode 240\tAverage Score (over agents): 32.85\tAverage Score (over last 100 episodes): 30.05\n",
      "\n",
      "Environment solved in 140 episodes!\tAverage Score: 30.05\n"
     ]
    }
   ],
   "source": [
    "scores = ddpg(env, agent)"
   ]
  },
  {
   "cell_type": "code",
   "execution_count": 9,
   "metadata": {},
   "outputs": [
    {
     "data": {
      "image/png": "[encoded data removed]",
      "text/plain": [
       "<Figure size 432x288 with 1 Axes>"
      ]
     },
     "metadata": {
      "needs_background": "light"
     },
     "output_type": "display_data"
    }
   ],
   "source": [
    "fig = plt.figure()\n",
    "ax = fig.add_subplot(111)\n",
    "plt.plot(np.arange(1, len(scores)+1), scores)\n",
    "plt.ylabel('Score')\n",
    "plt.xlabel('Episode #')\n",
    "plt.show()"
   ]
  },
  {
   "cell_type": "markdown",
   "metadata": {},
   "source": [
    "When finished, close the environment."
   ]
  },
  {
   "cell_type": "code",
   "execution_count": 10,
   "metadata": {},
   "outputs": [],
   "source": [
    "env.close()"
   ]
  }
 ],
 "metadata": {
  "kernelspec": {
   "display_name": "drlnd",
   "language": "python",
   "name": "drlnd"
  },
  "language_info": {
   "codemirror_mode": {
    "name": "ipython",
    "version": 3
   },
   "file_extension": ".py",
   "mimetype": "text/x-python",
   "name": "python",
   "nbconvert_exporter": "python",
   "pygments_lexer": "ipython3",
   "version": "3.6.12"
  }
 },
 "nbformat": 4,
 "nbformat_minor": 2
}
